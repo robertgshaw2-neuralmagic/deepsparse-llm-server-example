{
 "cells": [
  {
   "cell_type": "code",
   "execution_count": null,
   "metadata": {},
   "outputs": [],
   "source": [
    "def format_prompt(instruction):\n",
    "    return \"\"\"### Instruction:\n",
    "{instruction}\n",
    "\n",
    "### Response:\n",
    "\"\"\".format(instruction=instruction)\n",
    "\n",
    "instruction = \"\"\"Use the context below to answer the following question:\n",
    "\n",
    "QUESTION: Which English rowing event is held every year on the River Thames for 5 days (Wednesday to Sunday) over the first weekend in July?\n",
    "\n",
    "CONTEXT: River Thames: the stretch of river from Chiswick to Putney. Two rowing events on the River Thames are traditionally part of the wider English sporting calendar: The University Boat Race (between Oxford and Cambridge) takes place in late March or early April, on the Championship Course from Putney to Mortlake in the west of London. Henley Royal Regatta takes place over five days at the start of July in the upstream town of Henley-on-Thames. Besides its sporting significance the regatta is an important date on the English social calendar alongside events like Royal Ascot and Wimbledon. Other significant or historic rowing events\n",
    "\n",
    "CONTEXT: University rowing (UK): competition into 2 separate days, with Beginners racing over a shorter course on one day, and Seniors racing on the longer course on the other. However, due to inclement weather, the event was cancelled. The event was again held in Peterborough in 2010, 2011 and 2012, and was due to be held there in 2013. However, due to flooding, the event was moved to Boston that year, with Newcastle topping the medal table. The 2014 event was cancelled due to bad weather, It was held in Boston again in 2015, with racing on Saturday only for the \"intermediate\" and \"championship\"\n",
    "\n",
    "CONTEXT: Henley Royal Regatta: Henley Royal Regatta Henley Royal Regatta (or Henley Regatta, its original name pre-dating Royal patronage) is a rowing event held annually on the River Thames by the town of Henley-on-Thames, England. It was established on 26 March 1839. It differs from the three other regattas rowed over approximately the same course, Henley Women's Regatta, Henley Masters Regatta and Henley Town and Visitors' Regatta, each of which is an entirely separate event. The regatta lasts for five days (Wednesday to Sunday) ending on the first weekend in July. Races are head-to-head knock out competitions, raced\"\"\"\n",
    "\n",
    "prompt = format_prompt(instruction)\n",
    "print(prompt)"
   ]
  },
  {
   "cell_type": "code",
   "execution_count": null,
   "metadata": {},
   "outputs": [],
   "source": [
    "import requests, json\n",
    "\n",
    "url = \"http://localhost:5543/v2/models/text_generation-0/infer\"\n",
    "\n",
    "obj = {\n",
    "    \"prompt\": prompt,\n",
    "    \"max_new_tokens\": 100\n",
    "}\n",
    "\n",
    "response = requests.post(url, json=obj)\n",
    "print(json.loads(response.text)[\"generations\"][0][\"text\"])"
   ]
  }
 ],
 "metadata": {
  "language_info": {
   "name": "python"
  }
 },
 "nbformat": 4,
 "nbformat_minor": 2
}
