{
 "cells": [
  {
   "cell_type": "code",
   "execution_count": 24,
   "metadata": {},
   "outputs": [
    {
     "name": "stdout",
     "output_type": "stream",
     "text": [
      "Collecting jinja2\n",
      "  Downloading Jinja2-3.1.2-py3-none-any.whl (133 kB)\n",
      "\u001b[2K     \u001b[90m━━━━━━━━━━━━━━━━━━━━━━━━━━━━━━━━━━━━━━━\u001b[0m \u001b[32m133.1/133.1 kB\u001b[0m \u001b[31m1.5 MB/s\u001b[0m eta \u001b[36m0:00:00\u001b[0ma \u001b[36m0:00:01\u001b[0m\n",
      "\u001b[?25hRequirement already satisfied: deepsparse[llm] in /home/robertgshaw/deepsparse-llm-server-example/.venv/lib/python3.9/site-packages (1.6.0)\n",
      "Requirement already satisfied: sparsezoo~=1.6.0 in /home/robertgshaw/deepsparse-llm-server-example/.venv/lib/python3.9/site-packages (from deepsparse[llm]) (1.6.0)\n",
      "Requirement already satisfied: numpy>=1.16.3 in /home/robertgshaw/deepsparse-llm-server-example/.venv/lib/python3.9/site-packages (from deepsparse[llm]) (1.26.2)\n",
      "Requirement already satisfied: onnx<1.15.0,>=1.5.0 in /home/robertgshaw/deepsparse-llm-server-example/.venv/lib/python3.9/site-packages (from deepsparse[llm]) (1.14.1)\n",
      "Requirement already satisfied: pydantic<2.0.0,>=1.8.2 in /home/robertgshaw/deepsparse-llm-server-example/.venv/lib/python3.9/site-packages (from deepsparse[llm]) (1.10.13)\n",
      "Requirement already satisfied: requests>=2.0.0 in /home/robertgshaw/deepsparse-llm-server-example/.venv/lib/python3.9/site-packages (from deepsparse[llm]) (2.31.0)\n",
      "Requirement already satisfied: tqdm>=4.0.0 in /home/robertgshaw/deepsparse-llm-server-example/.venv/lib/python3.9/site-packages (from deepsparse[llm]) (4.66.1)\n",
      "Requirement already satisfied: protobuf>=3.12.2 in /home/robertgshaw/deepsparse-llm-server-example/.venv/lib/python3.9/site-packages (from deepsparse[llm]) (4.25.1)\n",
      "Requirement already satisfied: click!=8.0.0,>=7.1.2 in /home/robertgshaw/deepsparse-llm-server-example/.venv/lib/python3.9/site-packages (from deepsparse[llm]) (8.1.7)\n",
      "Requirement already satisfied: transformers<4.35 in /home/robertgshaw/deepsparse-llm-server-example/.venv/lib/python3.9/site-packages (from deepsparse[llm]) (4.34.1)\n",
      "Requirement already satisfied: datasets<=2.14.6 in /home/robertgshaw/deepsparse-llm-server-example/.venv/lib/python3.9/site-packages (from deepsparse[llm]) (2.14.6)\n",
      "Requirement already satisfied: scikit-learn in /home/robertgshaw/deepsparse-llm-server-example/.venv/lib/python3.9/site-packages (from deepsparse[llm]) (1.3.2)\n",
      "Requirement already satisfied: seqeval in /home/robertgshaw/deepsparse-llm-server-example/.venv/lib/python3.9/site-packages (from deepsparse[llm]) (1.2.2)\n",
      "Collecting MarkupSafe>=2.0 (from jinja2)\n",
      "  Downloading MarkupSafe-2.1.3-cp39-cp39-manylinux_2_17_x86_64.manylinux2014_x86_64.whl.metadata (3.0 kB)\n",
      "Requirement already satisfied: pyarrow>=8.0.0 in /home/robertgshaw/deepsparse-llm-server-example/.venv/lib/python3.9/site-packages (from datasets<=2.14.6->deepsparse[llm]) (14.0.1)\n",
      "Requirement already satisfied: dill<0.3.8,>=0.3.0 in /home/robertgshaw/deepsparse-llm-server-example/.venv/lib/python3.9/site-packages (from datasets<=2.14.6->deepsparse[llm]) (0.3.7)\n",
      "Requirement already satisfied: pandas in /home/robertgshaw/deepsparse-llm-server-example/.venv/lib/python3.9/site-packages (from datasets<=2.14.6->deepsparse[llm]) (2.1.3)\n",
      "Requirement already satisfied: xxhash in /home/robertgshaw/deepsparse-llm-server-example/.venv/lib/python3.9/site-packages (from datasets<=2.14.6->deepsparse[llm]) (3.4.1)\n",
      "Requirement already satisfied: multiprocess in /home/robertgshaw/deepsparse-llm-server-example/.venv/lib/python3.9/site-packages (from datasets<=2.14.6->deepsparse[llm]) (0.70.15)\n",
      "Requirement already satisfied: fsspec<=2023.10.0,>=2023.1.0 in /home/robertgshaw/deepsparse-llm-server-example/.venv/lib/python3.9/site-packages (from fsspec[http]<=2023.10.0,>=2023.1.0->datasets<=2.14.6->deepsparse[llm]) (2023.10.0)\n",
      "Requirement already satisfied: aiohttp in /home/robertgshaw/deepsparse-llm-server-example/.venv/lib/python3.9/site-packages (from datasets<=2.14.6->deepsparse[llm]) (3.9.1)\n",
      "Requirement already satisfied: huggingface-hub<1.0.0,>=0.14.0 in /home/robertgshaw/deepsparse-llm-server-example/.venv/lib/python3.9/site-packages (from datasets<=2.14.6->deepsparse[llm]) (0.17.3)\n",
      "Requirement already satisfied: packaging in /home/robertgshaw/deepsparse-llm-server-example/.venv/lib/python3.9/site-packages (from datasets<=2.14.6->deepsparse[llm]) (23.2)\n",
      "Requirement already satisfied: pyyaml>=5.1 in /home/robertgshaw/deepsparse-llm-server-example/.venv/lib/python3.9/site-packages (from datasets<=2.14.6->deepsparse[llm]) (6.0.1)\n",
      "Requirement already satisfied: typing-extensions>=3.6.2.1 in /home/robertgshaw/deepsparse-llm-server-example/.venv/lib/python3.9/site-packages (from onnx<1.15.0,>=1.5.0->deepsparse[llm]) (4.8.0)\n",
      "Requirement already satisfied: charset-normalizer<4,>=2 in /home/robertgshaw/deepsparse-llm-server-example/.venv/lib/python3.9/site-packages (from requests>=2.0.0->deepsparse[llm]) (3.3.2)\n",
      "Requirement already satisfied: idna<4,>=2.5 in /home/robertgshaw/deepsparse-llm-server-example/.venv/lib/python3.9/site-packages (from requests>=2.0.0->deepsparse[llm]) (3.6)\n",
      "Requirement already satisfied: urllib3<3,>=1.21.1 in /home/robertgshaw/deepsparse-llm-server-example/.venv/lib/python3.9/site-packages (from requests>=2.0.0->deepsparse[llm]) (2.1.0)\n",
      "Requirement already satisfied: certifi>=2017.4.17 in /home/robertgshaw/deepsparse-llm-server-example/.venv/lib/python3.9/site-packages (from requests>=2.0.0->deepsparse[llm]) (2023.11.17)\n",
      "Requirement already satisfied: py-machineid>=0.3.0 in /home/robertgshaw/deepsparse-llm-server-example/.venv/lib/python3.9/site-packages (from sparsezoo~=1.6.0->deepsparse[llm]) (0.4.6)\n",
      "Requirement already satisfied: geocoder>=1.38.0 in /home/robertgshaw/deepsparse-llm-server-example/.venv/lib/python3.9/site-packages (from sparsezoo~=1.6.0->deepsparse[llm]) (1.38.1)\n",
      "Requirement already satisfied: filelock in /home/robertgshaw/deepsparse-llm-server-example/.venv/lib/python3.9/site-packages (from transformers<4.35->deepsparse[llm]) (3.13.1)\n",
      "Requirement already satisfied: regex!=2019.12.17 in /home/robertgshaw/deepsparse-llm-server-example/.venv/lib/python3.9/site-packages (from transformers<4.35->deepsparse[llm]) (2023.10.3)\n",
      "Requirement already satisfied: tokenizers<0.15,>=0.14 in /home/robertgshaw/deepsparse-llm-server-example/.venv/lib/python3.9/site-packages (from transformers<4.35->deepsparse[llm]) (0.14.1)\n",
      "Requirement already satisfied: safetensors>=0.3.1 in /home/robertgshaw/deepsparse-llm-server-example/.venv/lib/python3.9/site-packages (from transformers<4.35->deepsparse[llm]) (0.4.1)\n",
      "Requirement already satisfied: scipy>=1.5.0 in /home/robertgshaw/deepsparse-llm-server-example/.venv/lib/python3.9/site-packages (from scikit-learn->deepsparse[llm]) (1.11.4)\n",
      "Requirement already satisfied: joblib>=1.1.1 in /home/robertgshaw/deepsparse-llm-server-example/.venv/lib/python3.9/site-packages (from scikit-learn->deepsparse[llm]) (1.3.2)\n",
      "Requirement already satisfied: threadpoolctl>=2.0.0 in /home/robertgshaw/deepsparse-llm-server-example/.venv/lib/python3.9/site-packages (from scikit-learn->deepsparse[llm]) (3.2.0)\n",
      "Requirement already satisfied: attrs>=17.3.0 in /home/robertgshaw/deepsparse-llm-server-example/.venv/lib/python3.9/site-packages (from aiohttp->datasets<=2.14.6->deepsparse[llm]) (23.1.0)\n",
      "Requirement already satisfied: multidict<7.0,>=4.5 in /home/robertgshaw/deepsparse-llm-server-example/.venv/lib/python3.9/site-packages (from aiohttp->datasets<=2.14.6->deepsparse[llm]) (6.0.4)\n",
      "Requirement already satisfied: yarl<2.0,>=1.0 in /home/robertgshaw/deepsparse-llm-server-example/.venv/lib/python3.9/site-packages (from aiohttp->datasets<=2.14.6->deepsparse[llm]) (1.9.4)\n",
      "Requirement already satisfied: frozenlist>=1.1.1 in /home/robertgshaw/deepsparse-llm-server-example/.venv/lib/python3.9/site-packages (from aiohttp->datasets<=2.14.6->deepsparse[llm]) (1.4.0)\n",
      "Requirement already satisfied: aiosignal>=1.1.2 in /home/robertgshaw/deepsparse-llm-server-example/.venv/lib/python3.9/site-packages (from aiohttp->datasets<=2.14.6->deepsparse[llm]) (1.3.1)\n",
      "Requirement already satisfied: async-timeout<5.0,>=4.0 in /home/robertgshaw/deepsparse-llm-server-example/.venv/lib/python3.9/site-packages (from aiohttp->datasets<=2.14.6->deepsparse[llm]) (4.0.3)\n",
      "Requirement already satisfied: future in /home/robertgshaw/deepsparse-llm-server-example/.venv/lib/python3.9/site-packages (from geocoder>=1.38.0->sparsezoo~=1.6.0->deepsparse[llm]) (0.18.3)\n",
      "Requirement already satisfied: ratelim in /home/robertgshaw/deepsparse-llm-server-example/.venv/lib/python3.9/site-packages (from geocoder>=1.38.0->sparsezoo~=1.6.0->deepsparse[llm]) (0.1.6)\n",
      "Requirement already satisfied: six in /home/robertgshaw/deepsparse-llm-server-example/.venv/lib/python3.9/site-packages (from geocoder>=1.38.0->sparsezoo~=1.6.0->deepsparse[llm]) (1.16.0)\n",
      "Requirement already satisfied: python-dateutil>=2.8.2 in /home/robertgshaw/deepsparse-llm-server-example/.venv/lib/python3.9/site-packages (from pandas->datasets<=2.14.6->deepsparse[llm]) (2.8.2)\n",
      "Requirement already satisfied: pytz>=2020.1 in /home/robertgshaw/deepsparse-llm-server-example/.venv/lib/python3.9/site-packages (from pandas->datasets<=2.14.6->deepsparse[llm]) (2023.3.post1)\n",
      "Requirement already satisfied: tzdata>=2022.1 in /home/robertgshaw/deepsparse-llm-server-example/.venv/lib/python3.9/site-packages (from pandas->datasets<=2.14.6->deepsparse[llm]) (2023.3)\n",
      "Requirement already satisfied: decorator in /home/robertgshaw/deepsparse-llm-server-example/.venv/lib/python3.9/site-packages (from ratelim->geocoder>=1.38.0->sparsezoo~=1.6.0->deepsparse[llm]) (5.1.1)\n",
      "Downloading MarkupSafe-2.1.3-cp39-cp39-manylinux_2_17_x86_64.manylinux2014_x86_64.whl (25 kB)\n",
      "Installing collected packages: MarkupSafe, jinja2\n",
      "Successfully installed MarkupSafe-2.1.3 jinja2-3.1.2\n"
     ]
    }
   ],
   "source": [
    "!pip install -U deepsparse[llm] jinja2"
   ]
  },
  {
   "cell_type": "code",
   "execution_count": null,
   "metadata": {},
   "outputs": [],
   "source": [
    "from deepsparse import TextGeneration\n",
    "\n",
    "model = TextGeneration(\n",
    "    model=\"hf:mgoin/OpenHermes-2.5-Mistral-7B-pruned50-quant-ds\",\n",
    "    sequence_length=4096\n",
    ")"
   ]
  },
  {
   "cell_type": "code",
   "execution_count": 5,
   "metadata": {},
   "outputs": [
    {
     "name": "stderr",
     "output_type": "stream",
     "text": [
      "Downloading readme: 100%|██████████| 4.46k/4.46k [00:00<00:00, 22.8MB/s]\n",
      "Downloading data: 100%|██████████| 244M/244M [00:07<00:00, 33.0MB/s]\n",
      "Downloading data: 100%|██████████| 244M/244M [00:06<00:00, 36.1MB/s]\n",
      "Downloading data: 100%|██████████| 244M/244M [00:06<00:00, 38.3MB/s]\n",
      "Downloading data: 100%|██████████| 81.2M/81.2M [00:01<00:00, 42.7MB/s]\n",
      "Downloading data: 100%|██████████| 244M/244M [00:05<00:00, 41.1MB/s]]\n",
      "Downloading data: 100%|██████████| 243M/243M [00:06<00:00, 40.3MB/s]\n",
      "Downloading data: 100%|██████████| 243M/243M [00:05<00:00, 42.6MB/s]\n",
      "Downloading data: 100%|██████████| 80.4M/80.4M [00:04<00:00, 16.9MB/s]\n",
      "Downloading data files: 100%|██████████| 4/4 [00:44<00:00, 11.22s/it]\n",
      "Extracting data files: 100%|██████████| 4/4 [00:00<00:00, 2098.99it/s]\n",
      "Generating train_sft split: 100%|██████████| 207865/207865 [00:03<00:00, 61394.46 examples/s]\n",
      "Generating test_sft split: 100%|██████████| 23110/23110 [00:00<00:00, 61659.09 examples/s]\n",
      "Generating train_gen split: 100%|██████████| 256032/256032 [00:03<00:00, 82649.35 examples/s]\n",
      "Generating test_gen split: 100%|██████████| 28304/28304 [00:00<00:00, 85248.54 examples/s]\n"
     ]
    }
   ],
   "source": [
    "from datasets import load_dataset\n",
    "\n",
    "dataset = load_dataset(\n",
    "    \"HuggingFaceH4/ultrachat_200k\",\n",
    "    split=\"train_sft[:100]\",\n",
    ")"
   ]
  },
  {
   "cell_type": "code",
   "execution_count": 27,
   "metadata": {},
   "outputs": [
    {
     "name": "stdout",
     "output_type": "stream",
     "text": [
      "[{'content': 'We know you’ve done some pretty awesome stuff over the past four years. Please get creative when you’re writing about those things. Honestly, when you start tackling the college essays, you should spend most of your time planning out what you’re going to write about.\\nHere’s a list of yawn-worthy college essays we are just tired of reading.\\nThe essay about your mission trip to Guatemala when you realized that there was poverty in the world. We’ve read this one at least 3 billion times. If you’re going to talk about your mission trip, pleeeeaseeee have a better life lesson at the end.\\nThe essay about how your grandma came to the US from El Salvador or wherever and pulled herself up by her bootstraps. You have a cool grandma; that is awesome. But she’s not applying to college. Your essay needs to be about you.\\nThe essay about how you went to the championships with your basketball team, and you learned that “hard work pays off”. Cool. Now let’s go about 8 zillion times deeper. You need to put a lot of thought into the “what you learned” part of the college essay. This is your chance to show maturity and perspective. Use it!\\nThe essay about how you’ve always wanted to be a lawyer because that’s what your parents do. Show the admissions people you’ve grown up a bit. This sentiment is fine to have, as long as you back it up with the ways you’ve explored that career path on your own.\\nThe essay about how you got injured playing sports and had to sit on the bench for a season, which taught you to appreciate your health. Unless you have had to endure a serious medical condition, steer clear of injury essays. A story about a broken arm and being benched for a season is a total snooze. Can you summarize the list of common essay topics that college admissions officers are tired of reading about?', 'role': 'user'}, {'content': 'The list includes the essay about mission trips, the immigrant grandmother, basketball championships, wanting to be a lawyer because of parents, and injury stories. The common thread is that these topics have been overused and lack depth or personal growth on the part of the applicant.', 'role': 'assistant'}, {'content': 'Can you suggest some alternative essay topics that could make my application stand out among others?', 'role': 'user'}]\n"
     ]
    }
   ],
   "source": [
    "MESSAGE_IDX = 93\n",
    "\n",
    "messages = dataset[\"messages\"][MESSAGE_IDX][:3]\n",
    "print(messages)"
   ]
  },
  {
   "cell_type": "code",
   "execution_count": 28,
   "metadata": {},
   "outputs": [
    {
     "name": "stdout",
     "output_type": "stream",
     "text": [
      "<|im_start|>system\n",
      "You are a helpful assistant<|im_end|>\n",
      "<|im_start|>user\n",
      "We know you’ve done some pretty awesome stuff over the past four years. Please get creative when you’re writing about those things. Honestly, when you start tackling the college essays, you should spend most of your time planning out what you’re going to write about.\n",
      "Here’s a list of yawn-worthy college essays we are just tired of reading.\n",
      "The essay about your mission trip to Guatemala when you realized that there was poverty in the world. We’ve read this one at least 3 billion times. If you’re going to talk about your mission trip, pleeeeaseeee have a better life lesson at the end.\n",
      "The essay about how your grandma came to the US from El Salvador or wherever and pulled herself up by her bootstraps. You have a cool grandma; that is awesome. But she’s not applying to college. Your essay needs to be about you.\n",
      "The essay about how you went to the championships with your basketball team, and you learned that “hard work pays off”. Cool. Now let’s go about 8 zillion times deeper. You need to put a lot of thought into the “what you learned” part of the college essay. This is your chance to show maturity and perspective. Use it!\n",
      "The essay about how you’ve always wanted to be a lawyer because that’s what your parents do. Show the admissions people you’ve grown up a bit. This sentiment is fine to have, as long as you back it up with the ways you’ve explored that career path on your own.\n",
      "The essay about how you got injured playing sports and had to sit on the bench for a season, which taught you to appreciate your health. Unless you have had to endure a serious medical condition, steer clear of injury essays. A story about a broken arm and being benched for a season is a total snooze. Can you summarize the list of common essay topics that college admissions officers are tired of reading about?<|im_end|>\n",
      "<|im_start|>assistant\n",
      "The list includes the essay about mission trips, the immigrant grandmother, basketball championships, wanting to be a lawyer because of parents, and injury stories. The common thread is that these topics have been overused and lack depth or personal growth on the part of the applicant.<|im_end|>\n",
      "<|im_start|>user\n",
      "Can you suggest some alternative essay topics that could make my application stand out among others?<|im_end|>\n",
      "<|im_start|>assistant\n",
      "\n"
     ]
    }
   ],
   "source": [
    "system_prompt = {\n",
    "    \"content\": \"You are a helpful assistant\",\n",
    "    \"role\": \"system\"\n",
    "}\n",
    "\n",
    "def format_prompt(messages):\n",
    "    messages = [system_prompt] + messages\n",
    "    return model.tokenizer.apply_chat_template(\n",
    "        messages, \n",
    "        add_generation_prompt=True, \n",
    "        tokenize=False\n",
    "    )\n",
    "\n",
    "prompt = format_prompt(messages)\n",
    "print(prompt)"
   ]
  },
  {
   "cell_type": "code",
   "execution_count": 29,
   "metadata": {},
   "outputs": [
    {
     "name": "stdout",
     "output_type": "stream",
     "text": [
      "Absolutely! Here are some alternative essay topics that can help your application stand out among others:\n",
      "\n",
      "1. Overcoming a\n"
     ]
    }
   ],
   "source": [
    "output = model(prompt, max_new_tokens=25)\n",
    "print(output.generations[0].text)"
   ]
  },
  {
   "cell_type": "code",
   "execution_count": 32,
   "metadata": {},
   "outputs": [
    {
     "name": "stdout",
     "output_type": "stream",
     "text": [
      "<|im_start|>system\n",
      "You are a helpful assistant<|im_end|>\n",
      "<|im_start|>user\n",
      "We know you’ve done some pretty awesome stuff over the past four years. Please get creative when you’re writing about those things. Honestly, when you start tackling the college essays, you should spend most of your time planning out what you’re going to write about.\n",
      "Here’s a list of yawn-worthy college essays we are just tired of reading.\n",
      "The essay about your mission trip to Guatemala when you realized that there was poverty in the world. We’ve read this one at least 3 billion times. If you’re going to talk about your mission trip, pleeeeaseeee have a better life lesson at the end.\n",
      "The essay about how your grandma came to the US from El Salvador or wherever and pulled herself up by her bootstraps. You have a cool grandma; that is awesome. But she’s not applying to college. Your essay needs to be about you.\n",
      "The essay about how you went to the championships with your basketball team, and you learned that “hard work pays off”. Cool. Now let’s go about 8 zillion times deeper. You need to put a lot of thought into the “what you learned” part of the college essay. This is your chance to show maturity and perspective. Use it!\n",
      "The essay about how you’ve always wanted to be a lawyer because that’s what your parents do. Show the admissions people you’ve grown up a bit. This sentiment is fine to have, as long as you back it up with the ways you’ve explored that career path on your own.\n",
      "The essay about how you got injured playing sports and had to sit on the bench for a season, which taught you to appreciate your health. Unless you have had to endure a serious medical condition, steer clear of injury essays. A story about a broken arm and being benched for a season is a total snooze. Can you summarize the list of common essay topics that college admissions officers are tired of reading about?<|im_end|>\n",
      "<|im_start|>assistant\n",
      "The list includes the essay about mission trips, the immigrant grandmother, basketball championships, wanting to be a lawyer because of parents, and injury stories. The common thread is that these topics have been overused and lack depth or personal growth on the part of the applicant.<|im_end|>\n",
      "<|im_start|>user\n",
      "Can you suggest some alternative essay topics that could make my application stand out among others?<|im_end|>\n",
      "<|im_start|>assistant\n",
      "Absolutely! Here are some alternative essay topics that can help your application stand out among others:\n",
      "\n",
      "1. Overcoming a personal challenge or obstacle: Discuss a significant challenge you faced or overcame, such as a learning disability, a family crisis, or a personal setback. Explain how you dealt with the situation and what you learned from it.\n",
      "\n",
      "2. Unique extracurricular or cultural experience: Share your experience with a unique cultural or religious practice,"
     ]
    }
   ],
   "source": [
    "output_iterator = model(prompt=prompt, streaming=True, max_new_tokens=100)\n",
    "print(prompt, end=\"\")\n",
    "for it in output_iterator:\n",
    "    print(it.generations[0].text, end=\"\")"
   ]
  },
  {
   "cell_type": "code",
   "execution_count": null,
   "metadata": {},
   "outputs": [],
   "source": []
  }
 ],
 "metadata": {
  "kernelspec": {
   "display_name": "env",
   "language": "python",
   "name": "python3"
  },
  "language_info": {
   "codemirror_mode": {
    "name": "ipython",
    "version": 3
   },
   "file_extension": ".py",
   "mimetype": "text/x-python",
   "name": "python",
   "nbconvert_exporter": "python",
   "pygments_lexer": "ipython3",
   "version": "3.9.2"
  }
 },
 "nbformat": 4,
 "nbformat_minor": 2
}
