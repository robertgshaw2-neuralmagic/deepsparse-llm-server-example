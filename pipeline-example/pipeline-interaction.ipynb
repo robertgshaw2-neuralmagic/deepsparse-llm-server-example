{
 "cells": [
  {
   "cell_type": "code",
   "execution_count": null,
   "metadata": {},
   "outputs": [],
   "source": [
    "!pip install -U deepsparse[llm] jinja2"
   ]
  },
  {
   "cell_type": "code",
   "execution_count": null,
   "metadata": {},
   "outputs": [],
   "source": [
    "from deepsparse import TextGeneration\n",
    "\n",
    "model = TextGeneration(\n",
    "    model=\"hf:mgoin/OpenHermes-2.5-Mistral-7B-pruned50-quant-ds\",\n",
    "    sequence_length=4096\n",
    ")"
   ]
  },
  {
   "cell_type": "code",
   "execution_count": 5,
   "metadata": {},
   "outputs": [
    {
     "name": "stderr",
     "output_type": "stream",
     "text": [
      "Downloading readme: 100%|██████████| 4.46k/4.46k [00:00<00:00, 22.8MB/s]\n",
      "Downloading data: 100%|██████████| 244M/244M [00:07<00:00, 33.0MB/s]\n",
      "Downloading data: 100%|██████████| 244M/244M [00:06<00:00, 36.1MB/s]\n",
      "Downloading data: 100%|██████████| 244M/244M [00:06<00:00, 38.3MB/s]\n",
      "Downloading data: 100%|██████████| 81.2M/81.2M [00:01<00:00, 42.7MB/s]\n",
      "Downloading data: 100%|██████████| 244M/244M [00:05<00:00, 41.1MB/s]]\n",
      "Downloading data: 100%|██████████| 243M/243M [00:06<00:00, 40.3MB/s]\n",
      "Downloading data: 100%|██████████| 243M/243M [00:05<00:00, 42.6MB/s]\n",
      "Downloading data: 100%|██████████| 80.4M/80.4M [00:04<00:00, 16.9MB/s]\n",
      "Downloading data files: 100%|██████████| 4/4 [00:44<00:00, 11.22s/it]\n",
      "Extracting data files: 100%|██████████| 4/4 [00:00<00:00, 2098.99it/s]\n",
      "Generating train_sft split: 100%|██████████| 207865/207865 [00:03<00:00, 61394.46 examples/s]\n",
      "Generating test_sft split: 100%|██████████| 23110/23110 [00:00<00:00, 61659.09 examples/s]\n",
      "Generating train_gen split: 100%|██████████| 256032/256032 [00:03<00:00, 82649.35 examples/s]\n",
      "Generating test_gen split: 100%|██████████| 28304/28304 [00:00<00:00, 85248.54 examples/s]\n"
     ]
    }
   ],
   "source": [
    "from datasets import load_dataset\n",
    "\n",
    "dataset = load_dataset(\n",
    "    \"HuggingFaceH4/ultrachat_200k\",\n",
    "    split=\"train_sft[:100]\",\n",
    ")"
   ]
  },
  {
   "cell_type": "code",
   "execution_count": 27,
   "metadata": {},
   "outputs": [
    {
     "name": "stdout",
     "output_type": "stream",
     "text": [
      "[{'content': 'We know you’ve done some pretty awesome stuff over the past four years. Please get creative when you’re writing about those things. Honestly, when you start tackling the college essays, you should spend most of your time planning out what you’re going to write about.\\nHere’s a list of yawn-worthy college essays we are just tired of reading.\\nThe essay about your mission trip to Guatemala when you realized that there was poverty in the world. We’ve read this one at least 3 billion times. If you’re going to talk about your mission trip, pleeeeaseeee have a better life lesson at the end.\\nThe essay about how your grandma came to the US from El Salvador or wherever and pulled herself up by her bootstraps. You have a cool grandma; that is awesome. But she’s not applying to college. Your essay needs to be about you.\\nThe essay about how you went to the championships with your basketball team, and you learned that “hard work pays off”. Cool. Now let’s go about 8 zillion times deeper. You need to put a lot of thought into the “what you learned” part of the college essay. This is your chance to show maturity and perspective. Use it!\\nThe essay about how you’ve always wanted to be a lawyer because that’s what your parents do. Show the admissions people you’ve grown up a bit. This sentiment is fine to have, as long as you back it up with the ways you’ve explored that career path on your own.\\nThe essay about how you got injured playing sports and had to sit on the bench for a season, which taught you to appreciate your health. Unless you have had to endure a serious medical condition, steer clear of injury essays. A story about a broken arm and being benched for a season is a total snooze. Can you summarize the list of common essay topics that college admissions officers are tired of reading about?', 'role': 'user'}, {'content': 'The list includes the essay about mission trips, the immigrant grandmother, basketball championships, wanting to be a lawyer because of parents, and injury stories. The common thread is that these topics have been overused and lack depth or personal growth on the part of the applicant.', 'role': 'assistant'}, {'content': 'Can you suggest some alternative essay topics that could make my application stand out among others?', 'role': 'user'}]\n"
     ]
    }
   ],
   "source": [
    "MESSAGE_IDX = 93\n",
    "\n",
    "messages = dataset[\"messages\"][MESSAGE_IDX][:3]\n",
    "print(messages)"
   ]
  },
  {
   "cell_type": "code",
   "execution_count": 28,
   "metadata": {},
   "outputs": [
    {
     "name": "stdout",
     "output_type": "stream",
     "text": [
      "<|im_start|>system\n",
      "You are a helpful assistant<|im_end|>\n",
      "<|im_start|>user\n",
      "We know you’ve done some pretty awesome stuff over the past four years. Please get creative when you’re writing about those things. Honestly, when you start tackling the college essays, you should spend most of your time planning out what you’re going to write about.\n",
      "Here’s a list of yawn-worthy college essays we are just tired of reading.\n",
      "The essay about your mission trip to Guatemala when you realized that there was poverty in the world. We’ve read this one at least 3 billion times. If you’re going to talk about your mission trip, pleeeeaseeee have a better life lesson at the end.\n",
      "The essay about how your grandma came to the US from El Salvador or wherever and pulled herself up by her bootstraps. You have a cool grandma; that is awesome. But she’s not applying to college. Your essay needs to be about you.\n",
      "The essay about how you went to the championships with your basketball team, and you learned that “hard work pays off”. Cool. Now let’s go about 8 zillion times deeper. You need to put a lot of thought into the “what you learned” part of the college essay. This is your chance to show maturity and perspective. Use it!\n",
      "The essay about how you’ve always wanted to be a lawyer because that’s what your parents do. Show the admissions people you’ve grown up a bit. This sentiment is fine to have, as long as you back it up with the ways you’ve explored that career path on your own.\n",
      "The essay about how you got injured playing sports and had to sit on the bench for a season, which taught you to appreciate your health. Unless you have had to endure a serious medical condition, steer clear of injury essays. A story about a broken arm and being benched for a season is a total snooze. Can you summarize the list of common essay topics that college admissions officers are tired of reading about?<|im_end|>\n",
      "<|im_start|>assistant\n",
      "The list includes the essay about mission trips, the immigrant grandmother, basketball championships, wanting to be a lawyer because of parents, and injury stories. The common thread is that these topics have been overused and lack depth or personal growth on the part of the applicant.<|im_end|>\n",
      "<|im_start|>user\n",
      "Can you suggest some alternative essay topics that could make my application stand out among others?<|im_end|>\n",
      "<|im_start|>assistant\n",
      "\n"
     ]
    }
   ],
   "source": [
    "system_prompt = {\n",
    "    \"content\": \"You are a helpful assistant\",\n",
    "    \"role\": \"system\"\n",
    "}\n",
    "\n",
    "def format_prompt(messages):\n",
    "    messages = [system_prompt] + messages\n",
    "    return model.tokenizer.apply_chat_template(\n",
    "        messages, \n",
    "        add_generation_prompt=True, \n",
    "        tokenize=False\n",
    "    )\n",
    "\n",
    "prompt = format_prompt(messages)\n",
    "print(prompt)"
   ]
  },
  {
   "cell_type": "code",
   "execution_count": 29,
   "metadata": {},
   "outputs": [
    {
     "name": "stdout",
     "output_type": "stream",
     "text": [
      "Absolutely! Here are some alternative essay topics that can help your application stand out among others:\n",
      "\n",
      "1. Overcoming a\n"
     ]
    }
   ],
   "source": [
    "output = model(prompt, max_new_tokens=25)\n",
    "print(output.generations[0].text)"
   ]
  },
  {
   "cell_type": "code",
   "execution_count": 32,
   "metadata": {},
   "outputs": [
    {
     "name": "stdout",
     "output_type": "stream",
     "text": [
      "<|im_start|>system\n",
      "You are a helpful assistant<|im_end|>\n",
      "<|im_start|>user\n",
      "We know you’ve done some pretty awesome stuff over the past four years. Please get creative when you’re writing about those things. Honestly, when you start tackling the college essays, you should spend most of your time planning out what you’re going to write about.\n",
      "Here’s a list of yawn-worthy college essays we are just tired of reading.\n",
      "The essay about your mission trip to Guatemala when you realized that there was poverty in the world. We’ve read this one at least 3 billion times. If you’re going to talk about your mission trip, pleeeeaseeee have a better life lesson at the end.\n",
      "The essay about how your grandma came to the US from El Salvador or wherever and pulled herself up by her bootstraps. You have a cool grandma; that is awesome. But she’s not applying to college. Your essay needs to be about you.\n",
      "The essay about how you went to the championships with your basketball team, and you learned that “hard work pays off”. Cool. Now let’s go about 8 zillion times deeper. You need to put a lot of thought into the “what you learned” part of the college essay. This is your chance to show maturity and perspective. Use it!\n",
      "The essay about how you’ve always wanted to be a lawyer because that’s what your parents do. Show the admissions people you’ve grown up a bit. This sentiment is fine to have, as long as you back it up with the ways you’ve explored that career path on your own.\n",
      "The essay about how you got injured playing sports and had to sit on the bench for a season, which taught you to appreciate your health. Unless you have had to endure a serious medical condition, steer clear of injury essays. A story about a broken arm and being benched for a season is a total snooze. Can you summarize the list of common essay topics that college admissions officers are tired of reading about?<|im_end|>\n",
      "<|im_start|>assistant\n",
      "The list includes the essay about mission trips, the immigrant grandmother, basketball championships, wanting to be a lawyer because of parents, and injury stories. The common thread is that these topics have been overused and lack depth or personal growth on the part of the applicant.<|im_end|>\n",
      "<|im_start|>user\n",
      "Can you suggest some alternative essay topics that could make my application stand out among others?<|im_end|>\n",
      "<|im_start|>assistant\n",
      "Absolutely! Here are some alternative essay topics that can help your application stand out among others:\n",
      "\n",
      "1. Overcoming a personal challenge or obstacle: Discuss a significant challenge you faced or overcame, such as a learning disability, a family crisis, or a personal setback. Explain how you dealt with the situation and what you learned from it.\n",
      "\n",
      "2. Unique extracurricular or cultural experience: Share your experience with a unique cultural or religious practice,"
     ]
    }
   ],
   "source": [
    "output_iterator = model(prompt=prompt, streaming=True, max_new_tokens=100)\n",
    "print(prompt, end=\"\")\n",
    "for it in output_iterator:\n",
    "    print(it.generations[0].text, end=\"\")"
   ]
  }
 ],
 "metadata": {
  "kernelspec": {
   "display_name": "env",
   "language": "python",
   "name": "python3"
  },
  "language_info": {
   "codemirror_mode": {
    "name": "ipython",
    "version": 3
   },
   "file_extension": ".py",
   "mimetype": "text/x-python",
   "name": "python",
   "nbconvert_exporter": "python",
   "pygments_lexer": "ipython3",
   "version": "3.9.2"
  }
 },
 "nbformat": 4,
 "nbformat_minor": 2
}
