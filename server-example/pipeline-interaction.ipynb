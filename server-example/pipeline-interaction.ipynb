{
 "cells": [
  {
   "cell_type": "code",
   "execution_count": 1,
   "metadata": {},
   "outputs": [
    {
     "name": "stdout",
     "output_type": "stream",
     "text": [
      "### Instruction:\n",
      "Use the context below to answer the following question:\n",
      "\n",
      "QUESTION: Which English rowing event is held every year on the River Thames for 5 days (Wednesday to Sunday) over the first weekend in July?\n",
      "\n",
      "CONTEXT: River Thames: the stretch of river from Chiswick to Putney. Two rowing events on the River Thames are traditionally part of the wider English sporting calendar: The University Boat Race (between Oxford and Cambridge) takes place in late March or early April, on the Championship Course from Putney to Mortlake in the west of London. Henley Royal Regatta takes place over five days at the start of July in the upstream town of Henley-on-Thames. Besides its sporting significance the regatta is an important date on the English social calendar alongside events like Royal Ascot and Wimbledon. Other significant or historic rowing events\n",
      "\n",
      "CONTEXT: University rowing (UK): competition into 2 separate days, with Beginners racing over a shorter course on one day, and Seniors racing on the longer course on the other. However, due to inclement weather, the event was cancelled. The event was again held in Peterborough in 2010, 2011 and 2012, and was due to be held there in 2013. However, due to flooding, the event was moved to Boston that year, with Newcastle topping the medal table. The 2014 event was cancelled due to bad weather, It was held in Boston again in 2015, with racing on Saturday only for the \"intermediate\" and \"championship\"\n",
      "\n",
      "CONTEXT: Henley Royal Regatta: Henley Royal Regatta Henley Royal Regatta (or Henley Regatta, its original name pre-dating Royal patronage) is a rowing event held annually on the River Thames by the town of Henley-on-Thames, England. It was established on 26 March 1839. It differs from the three other regattas rowed over approximately the same course, Henley Women's Regatta, Henley Masters Regatta and Henley Town and Visitors' Regatta, each of which is an entirely separate event. The regatta lasts for five days (Wednesday to Sunday) ending on the first weekend in July. Races are head-to-head knock out competitions, raced\n",
      "\n",
      "### Response:\n",
      "\n"
     ]
    }
   ],
   "source": [
    "def format_prompt(instruction):\n",
    "    return \"\"\"### Instruction:\n",
    "{instruction}\n",
    "\n",
    "### Response:\n",
    "\"\"\".format(instruction=instruction)\n",
    "\n",
    "instruction = \"\"\"Use the context below to answer the following question:\n",
    "\n",
    "QUESTION: Which English rowing event is held every year on the River Thames for 5 days (Wednesday to Sunday) over the first weekend in July?\n",
    "\n",
    "CONTEXT: River Thames: the stretch of river from Chiswick to Putney. Two rowing events on the River Thames are traditionally part of the wider English sporting calendar: The University Boat Race (between Oxford and Cambridge) takes place in late March or early April, on the Championship Course from Putney to Mortlake in the west of London. Henley Royal Regatta takes place over five days at the start of July in the upstream town of Henley-on-Thames. Besides its sporting significance the regatta is an important date on the English social calendar alongside events like Royal Ascot and Wimbledon. Other significant or historic rowing events\n",
    "\n",
    "CONTEXT: University rowing (UK): competition into 2 separate days, with Beginners racing over a shorter course on one day, and Seniors racing on the longer course on the other. However, due to inclement weather, the event was cancelled. The event was again held in Peterborough in 2010, 2011 and 2012, and was due to be held there in 2013. However, due to flooding, the event was moved to Boston that year, with Newcastle topping the medal table. The 2014 event was cancelled due to bad weather, It was held in Boston again in 2015, with racing on Saturday only for the \"intermediate\" and \"championship\"\n",
    "\n",
    "CONTEXT: Henley Royal Regatta: Henley Royal Regatta Henley Royal Regatta (or Henley Regatta, its original name pre-dating Royal patronage) is a rowing event held annually on the River Thames by the town of Henley-on-Thames, England. It was established on 26 March 1839. It differs from the three other regattas rowed over approximately the same course, Henley Women's Regatta, Henley Masters Regatta and Henley Town and Visitors' Regatta, each of which is an entirely separate event. The regatta lasts for five days (Wednesday to Sunday) ending on the first weekend in July. Races are head-to-head knock out competitions, raced\"\"\"\n",
    "\n",
    "prompt = format_prompt(instruction)\n",
    "print(prompt)"
   ]
  },
  {
   "cell_type": "code",
   "execution_count": 2,
   "metadata": {},
   "outputs": [
    {
     "name": "stderr",
     "output_type": "stream",
     "text": [
      "/home/ubuntu/env/lib/python3.10/site-packages/tqdm/auto.py:21: TqdmWarning: IProgress not found. Please update jupyter and ipywidgets. See https://ipywidgets.readthedocs.io/en/stable/user_install.html\n",
      "  from .autonotebook import tqdm as notebook_tqdm\n",
      "None of PyTorch, TensorFlow >= 2.0, or Flax have been found. Models won't be available and only tokenizers, configuration and file/data utilities can be used.\n",
      "Fetching 10 files: 100%|██████████| 10/10 [00:00<00:00, 83886.08it/s]\n",
      "2023-11-18 19:35:11 deepsparse.transformers.pipelines.text_generation INFO     Compiling an auxiliary engine to process a prompt with a larger processing length. This improves performance, but may result in additional memory consumption.\n",
      "DeepSparse, Copyright 2021-present / Neuralmagic, Inc. version: 1.6.0.20231117 COMMUNITY | (9015e03e) (release) (optimized) (system=avx512_vnni, binary=avx512)\n"
     ]
    }
   ],
   "source": [
    "from deepsparse import TextGeneration\n",
    "\n",
    "model = TextGeneration(model=\"hf:mgoin/Nous-Hermes-llama-2-7b-pruned50-quant-ds\", sequence_length=4096)"
   ]
  },
  {
   "cell_type": "code",
   "execution_count": 5,
   "metadata": {},
   "outputs": [
    {
     "name": "stdout",
     "output_type": "stream",
     "text": [
      "The English rowing event held every year on the River Thames for 5 days (Wednesday to Sunday) over the first weekend in July is the Henley Royal Regatta.\n"
     ]
    }
   ],
   "source": [
    "output = model(prompt, max_new_tokens=100)\n",
    "print(output.generations[0].text)"
   ]
  }
 ],
 "metadata": {
  "kernelspec": {
   "display_name": "env",
   "language": "python",
   "name": "python3"
  },
  "language_info": {
   "codemirror_mode": {
    "name": "ipython",
    "version": 3
   },
   "file_extension": ".py",
   "mimetype": "text/x-python",
   "name": "python",
   "nbconvert_exporter": "python",
   "pygments_lexer": "ipython3",
   "version": "3.10.12"
  }
 },
 "nbformat": 4,
 "nbformat_minor": 2
}
